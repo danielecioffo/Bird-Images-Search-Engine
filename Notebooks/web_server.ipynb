{
  "cells": [
    {
      "cell_type": "markdown",
      "metadata": {
        "id": "NG1DEVFj15JD"
      },
      "source": [
        "## Import Libraries"
      ]
    },
    {
      "cell_type": "code",
      "execution_count": null,
      "metadata": {
        "colab": {
          "base_uri": "https://localhost:8080/",
          "height": 398
        },
        "id": "rxfECXUKGszK",
        "outputId": "7034e6ff-49d0-4c75-a125-7e2641f6412b"
      },
      "outputs": [
        {
          "output_type": "stream",
          "name": "stdout",
          "text": [
            "Collecting anvil-uplink\n",
            "  Downloading anvil_uplink-0.3.41-py2.py3-none-any.whl (64 kB)\n",
            "\u001b[?25l\r\u001b[K     |█████                           | 10 kB 19.7 MB/s eta 0:00:01\r\u001b[K     |██████████▏                     | 20 kB 9.5 MB/s eta 0:00:01\r\u001b[K     |███████████████▎                | 30 kB 7.7 MB/s eta 0:00:01\r\u001b[K     |████████████████████▎           | 40 kB 7.2 MB/s eta 0:00:01\r\u001b[K     |█████████████████████████▍      | 51 kB 4.2 MB/s eta 0:00:01\r\u001b[K     |██████████████████████████████▌ | 61 kB 4.5 MB/s eta 0:00:01\r\u001b[K     |████████████████████████████████| 64 kB 1.9 MB/s \n",
            "\u001b[?25hRequirement already satisfied: future in /usr/local/lib/python3.7/dist-packages (from anvil-uplink) (0.16.0)\n",
            "Collecting ws4py\n",
            "  Downloading ws4py-0.5.1.tar.gz (51 kB)\n",
            "\u001b[?25l\r\u001b[K     |██████▍                         | 10 kB 28.0 MB/s eta 0:00:01\r\u001b[K     |████████████▊                   | 20 kB 27.1 MB/s eta 0:00:01\r\u001b[K     |███████████████████▏            | 30 kB 31.8 MB/s eta 0:00:01\r\u001b[K     |█████████████████████████▌      | 40 kB 29.1 MB/s eta 0:00:01\r\u001b[K     |███████████████████████████████▉| 51 kB 32.5 MB/s eta 0:00:01\r\u001b[K     |████████████████████████████████| 51 kB 205 kB/s \n",
            "\u001b[?25hRequirement already satisfied: six in /usr/local/lib/python3.7/dist-packages (from anvil-uplink) (1.15.0)\n",
            "Collecting argparse\n",
            "  Downloading argparse-1.4.0-py2.py3-none-any.whl (23 kB)\n",
            "Building wheels for collected packages: ws4py\n",
            "  Building wheel for ws4py (setup.py) ... \u001b[?25l\u001b[?25hdone\n",
            "  Created wheel for ws4py: filename=ws4py-0.5.1-py3-none-any.whl size=45229 sha256=3111a6c7270b4b170b637688b294a32e5bea7059068079c14e64282a1c10c6aa\n",
            "  Stored in directory: /root/.cache/pip/wheels/29/ea/7d/3410aa0aa0e4402ead9a7a97ab2214804887e0f5c2b76f0c96\n",
            "Successfully built ws4py\n",
            "Installing collected packages: ws4py, argparse, anvil-uplink\n",
            "Successfully installed anvil-uplink-0.3.41 argparse-1.4.0 ws4py-0.5.1\n"
          ]
        },
        {
          "output_type": "display_data",
          "data": {
            "application/vnd.colab-display-data+json": {
              "pip_warning": {
                "packages": [
                  "argparse",
                  "google"
                ]
              }
            }
          },
          "metadata": {}
        }
      ],
      "source": [
        "!pip install anvil-uplink\n",
        "import anvil.server\n",
        "import anvil.media\n",
        "from google.colab import drive\n",
        "import time\n",
        "import numpy as np\n",
        "from pathlib import Path\n",
        "import pandas as pd\n",
        "import concurrent.futures\n",
        "from keras.preprocessing.image import load_img\n",
        "import matplotlib.pyplot as plt\n",
        "import tensorflow as tf\n",
        "from tensorflow import keras\n",
        "from tensorflow.keras import layers, models\n",
        "from tensorflow.keras.models import Sequential\n",
        "from keras.models import Model"
      ]
    },
    {
      "cell_type": "markdown",
      "metadata": {
        "id": "DsV9MsYEVmXa"
      },
      "source": [
        "# Load data from Google Drive"
      ]
    },
    {
      "cell_type": "code",
      "execution_count": null,
      "metadata": {
        "colab": {
          "base_uri": "https://localhost:8080/"
        },
        "id": "gN_JD_2-Vpqi",
        "outputId": "e922d5a0-05d9-4ed2-f9c7-d5d6abd6f3d4"
      },
      "outputs": [
        {
          "output_type": "stream",
          "name": "stdout",
          "text": [
            "Mounted at /content/drive\n"
          ]
        }
      ],
      "source": [
        "drive.mount('/content/drive', force_remount=True)"
      ]
    },
    {
      "cell_type": "code",
      "execution_count": null,
      "metadata": {
        "id": "dZmYEwo-VzE_"
      },
      "outputs": [],
      "source": [
        "!unzip -q \"/content/drive/My Drive/CV_Birds/FinalIndexes.zip\" -d \"/content\""
      ]
    },
    {
      "cell_type": "code",
      "execution_count": null,
      "metadata": {
        "id": "IHMJY8ff0TAS"
      },
      "outputs": [],
      "source": [
        "!unzip -q \"/content/drive/My Drive/CV_Birds/Dataset.zip\" -d \"/content\""
      ]
    },
    {
      "cell_type": "code",
      "execution_count": null,
      "metadata": {
        "id": "_vUj0grU1J8a"
      },
      "outputs": [],
      "source": [
        "!unzip -q \"/content/drive/My Drive/CV_Birds/mirflickr.zip\" -d \"/content/mirflickr25k\""
      ]
    },
    {
      "cell_type": "markdown",
      "metadata": {
        "id": "0Nxb9j_WLLz9"
      },
      "source": [
        "# Set parameters"
      ]
    },
    {
      "cell_type": "code",
      "execution_count": null,
      "metadata": {
        "id": "Cl0-j5JCLM-O"
      },
      "outputs": [],
      "source": [
        "GLOBAL_MODELS_FOLDER = \"/content/drive/My Drive/CV_Birds/models\"\n",
        "IMAGE_HEIGHT = 224\n",
        "IMAGE_WIDTH = 224"
      ]
    },
    {
      "cell_type": "markdown",
      "metadata": {
        "id": "EHH7RkSyBXvi"
      },
      "source": [
        "## Utility functions"
      ]
    },
    {
      "cell_type": "markdown",
      "metadata": {
        "id": "F9yqiodWBaLc"
      },
      "source": [
        "### Create annot and load descriptors"
      ]
    },
    {
      "cell_type": "code",
      "execution_count": null,
      "metadata": {
        "id": "EFyndPYP7p4l"
      },
      "outputs": [],
      "source": [
        "def create_annot(path):\n",
        "  image_list = sorted(Path(path).glob('*/*.jpg'))\n",
        "  # the identity name is in the path (the name of the parent directory)\n",
        "  names_list = [i.parent.name for i in image_list]  # get the identity of each image\n",
        "  # keep info in a pandas DataFrame\n",
        "  annot = pd.DataFrame({'identity': names_list, 'image_path': image_list})\n",
        "  return annot\n",
        "\n",
        "def concatenate_annots(list_of_paths):\n",
        "  concat_annot = pd.DataFrame()\n",
        "  with concurrent.futures.ThreadPoolExecutor() as executor:\n",
        "    annots = [executor.submit(create_annot, path) for path in list_of_paths]\n",
        "    for annot in annots:\n",
        "      new_annot = annot.result()\n",
        "      concat_annot = concat_annot.append(new_annot, ignore_index = True)\n",
        "    return concat_annot"
      ]
    },
    {
      "cell_type": "code",
      "execution_count": null,
      "metadata": {
        "id": "QWcji5EX_CGz"
      },
      "outputs": [],
      "source": [
        "def load_descriptors(path):\n",
        "  with open(path, 'rb') as file:\n",
        "    return np.load(file)\n",
        "\n",
        "def concatenate_descriptors(list_of_paths):\n",
        "  concat_descriptors = None\n",
        "  with concurrent.futures.ThreadPoolExecutor() as executor:\n",
        "    descriptors = [executor.submit(load_descriptors, path) for path in list_of_paths]\n",
        "    for descriptor in descriptors:\n",
        "      new_descriptor = descriptor.result()\n",
        "      if concat_descriptors is None:\n",
        "        concat_descriptors = new_descriptor\n",
        "      else:\n",
        "        concat_descriptors = np.concatenate([concat_descriptors, new_descriptor])\n",
        "    return concat_descriptors"
      ]
    },
    {
      "cell_type": "markdown",
      "metadata": {
        "id": "mN8TvRxU3JGx"
      },
      "source": [
        "### Compute results"
      ]
    },
    {
      "cell_type": "code",
      "execution_count": null,
      "metadata": {
        "id": "Rt1it4vfZBKi"
      },
      "outputs": [],
      "source": [
        "def weighted_KNN(identities, distances, distance_measure):\n",
        "  if distance_measure==\"Euclidean\":\n",
        "    result_annot = pd.DataFrame({'identity': identities, 'score': [(1/(distance+1e-7)) for distance in distances]})\n",
        "  else:\n",
        "    result_annot = pd.DataFrame({'identity': identities, 'score': [(1-distance) for distance in distances]})   \n",
        "  summations = result_annot.groupby('identity', as_index=False).sum()\n",
        "  max = float(summations['score'].max())\n",
        "  result = summations.loc[summations['score'] == max]\n",
        "  result = result.reset_index()\n",
        "  return result['identity'][0]"
      ]
    },
    {
      "cell_type": "markdown",
      "metadata": {
        "id": "m-lZYcPyKOfR"
      },
      "source": [
        "# Load models"
      ]
    },
    {
      "cell_type": "code",
      "execution_count": null,
      "metadata": {
        "id": "E11NDT24KP7O"
      },
      "outputs": [],
      "source": [
        "model = tf.keras.models.load_model(GLOBAL_MODELS_FOLDER + '/ResNet152v2/OneDense512_Dropout_feature_extraction.h5')\n",
        "feature_extractor = keras.Model(inputs=model.inputs, outputs=model.get_layer('dense').output)\n",
        "autoencoder = tf.keras.models.load_model(GLOBAL_MODELS_FOLDER + '/AutoEncoder/autoencoder128_feature_extraction.keras')\n",
        "encoder = keras.Model(inputs=autoencoder.inputs, outputs=autoencoder.get_layer('Encoder128').output)\n",
        "feature_extraction_model = tf.keras.models.Sequential([\n",
        "  feature_extractor,\n",
        "  encoder                                                    \n",
        "])\n",
        "\n",
        "model = tf.keras.models.load_model(GLOBAL_MODELS_FOLDER + '/ResNet152v2/OneDense512_Dropout_fine_tuning.h5')\n",
        "feature_extractor = keras.Model(inputs=model.inputs, outputs=model.get_layer('dense').output)\n",
        "autoencoder = tf.keras.models.load_model(GLOBAL_MODELS_FOLDER + '/AutoEncoder/autoencoder512To128.keras')\n",
        "encoder = keras.Model(inputs=autoencoder.inputs, outputs=autoencoder.get_layer('Encoder128').output)\n",
        "fine_tuning_model = tf.keras.models.Sequential([\n",
        "  feature_extractor,\n",
        "  encoder                                                \n",
        "])"
      ]
    },
    {
      "cell_type": "markdown",
      "metadata": {
        "id": "mFg0K3Is01OO"
      },
      "source": [
        "## Load annots"
      ]
    },
    {
      "cell_type": "code",
      "execution_count": null,
      "metadata": {
        "colab": {
          "base_uri": "https://localhost:8080/",
          "height": 423
        },
        "id": "vaZYSWa22iIH",
        "outputId": "708bf7eb-3edd-4a86-dc9e-74e4e79b71cb"
      },
      "outputs": [
        {
          "output_type": "execute_result",
          "data": {
            "text/html": [
              "\n",
              "  <div id=\"df-85783fb4-83c9-42c2-8622-09a6dd5c5c87\">\n",
              "    <div class=\"colab-df-container\">\n",
              "      <div>\n",
              "<style scoped>\n",
              "    .dataframe tbody tr th:only-of-type {\n",
              "        vertical-align: middle;\n",
              "    }\n",
              "\n",
              "    .dataframe tbody tr th {\n",
              "        vertical-align: top;\n",
              "    }\n",
              "\n",
              "    .dataframe thead th {\n",
              "        text-align: right;\n",
              "    }\n",
              "</style>\n",
              "<table border=\"1\" class=\"dataframe\">\n",
              "  <thead>\n",
              "    <tr style=\"text-align: right;\">\n",
              "      <th></th>\n",
              "      <th>identity</th>\n",
              "      <th>image_path</th>\n",
              "    </tr>\n",
              "  </thead>\n",
              "  <tbody>\n",
              "    <tr>\n",
              "      <th>0</th>\n",
              "      <td>AFRICAN CROWNED CRANE</td>\n",
              "      <td>/content/Dataset/train/AFRICAN CROWNED CRANE/0...</td>\n",
              "    </tr>\n",
              "    <tr>\n",
              "      <th>1</th>\n",
              "      <td>AFRICAN CROWNED CRANE</td>\n",
              "      <td>/content/Dataset/train/AFRICAN CROWNED CRANE/0...</td>\n",
              "    </tr>\n",
              "    <tr>\n",
              "      <th>2</th>\n",
              "      <td>AFRICAN CROWNED CRANE</td>\n",
              "      <td>/content/Dataset/train/AFRICAN CROWNED CRANE/0...</td>\n",
              "    </tr>\n",
              "    <tr>\n",
              "      <th>3</th>\n",
              "      <td>AFRICAN CROWNED CRANE</td>\n",
              "      <td>/content/Dataset/train/AFRICAN CROWNED CRANE/0...</td>\n",
              "    </tr>\n",
              "    <tr>\n",
              "      <th>4</th>\n",
              "      <td>AFRICAN CROWNED CRANE</td>\n",
              "      <td>/content/Dataset/train/AFRICAN CROWNED CRANE/0...</td>\n",
              "    </tr>\n",
              "    <tr>\n",
              "      <th>...</th>\n",
              "      <td>...</td>\n",
              "      <td>...</td>\n",
              "    </tr>\n",
              "    <tr>\n",
              "      <th>72327</th>\n",
              "      <td>mirflickr</td>\n",
              "      <td>/content/mirflickr25k/mirflickr/im9995.jpg</td>\n",
              "    </tr>\n",
              "    <tr>\n",
              "      <th>72328</th>\n",
              "      <td>mirflickr</td>\n",
              "      <td>/content/mirflickr25k/mirflickr/im9996.jpg</td>\n",
              "    </tr>\n",
              "    <tr>\n",
              "      <th>72329</th>\n",
              "      <td>mirflickr</td>\n",
              "      <td>/content/mirflickr25k/mirflickr/im9997.jpg</td>\n",
              "    </tr>\n",
              "    <tr>\n",
              "      <th>72330</th>\n",
              "      <td>mirflickr</td>\n",
              "      <td>/content/mirflickr25k/mirflickr/im9998.jpg</td>\n",
              "    </tr>\n",
              "    <tr>\n",
              "      <th>72331</th>\n",
              "      <td>mirflickr</td>\n",
              "      <td>/content/mirflickr25k/mirflickr/im9999.jpg</td>\n",
              "    </tr>\n",
              "  </tbody>\n",
              "</table>\n",
              "<p>72332 rows × 2 columns</p>\n",
              "</div>\n",
              "      <button class=\"colab-df-convert\" onclick=\"convertToInteractive('df-85783fb4-83c9-42c2-8622-09a6dd5c5c87')\"\n",
              "              title=\"Convert this dataframe to an interactive table.\"\n",
              "              style=\"display:none;\">\n",
              "        \n",
              "  <svg xmlns=\"http://www.w3.org/2000/svg\" height=\"24px\"viewBox=\"0 0 24 24\"\n",
              "       width=\"24px\">\n",
              "    <path d=\"M0 0h24v24H0V0z\" fill=\"none\"/>\n",
              "    <path d=\"M18.56 5.44l.94 2.06.94-2.06 2.06-.94-2.06-.94-.94-2.06-.94 2.06-2.06.94zm-11 1L8.5 8.5l.94-2.06 2.06-.94-2.06-.94L8.5 2.5l-.94 2.06-2.06.94zm10 10l.94 2.06.94-2.06 2.06-.94-2.06-.94-.94-2.06-.94 2.06-2.06.94z\"/><path d=\"M17.41 7.96l-1.37-1.37c-.4-.4-.92-.59-1.43-.59-.52 0-1.04.2-1.43.59L10.3 9.45l-7.72 7.72c-.78.78-.78 2.05 0 2.83L4 21.41c.39.39.9.59 1.41.59.51 0 1.02-.2 1.41-.59l7.78-7.78 2.81-2.81c.8-.78.8-2.07 0-2.86zM5.41 20L4 18.59l7.72-7.72 1.47 1.35L5.41 20z\"/>\n",
              "  </svg>\n",
              "      </button>\n",
              "      \n",
              "  <style>\n",
              "    .colab-df-container {\n",
              "      display:flex;\n",
              "      flex-wrap:wrap;\n",
              "      gap: 12px;\n",
              "    }\n",
              "\n",
              "    .colab-df-convert {\n",
              "      background-color: #E8F0FE;\n",
              "      border: none;\n",
              "      border-radius: 50%;\n",
              "      cursor: pointer;\n",
              "      display: none;\n",
              "      fill: #1967D2;\n",
              "      height: 32px;\n",
              "      padding: 0 0 0 0;\n",
              "      width: 32px;\n",
              "    }\n",
              "\n",
              "    .colab-df-convert:hover {\n",
              "      background-color: #E2EBFA;\n",
              "      box-shadow: 0px 1px 2px rgba(60, 64, 67, 0.3), 0px 1px 3px 1px rgba(60, 64, 67, 0.15);\n",
              "      fill: #174EA6;\n",
              "    }\n",
              "\n",
              "    [theme=dark] .colab-df-convert {\n",
              "      background-color: #3B4455;\n",
              "      fill: #D2E3FC;\n",
              "    }\n",
              "\n",
              "    [theme=dark] .colab-df-convert:hover {\n",
              "      background-color: #434B5C;\n",
              "      box-shadow: 0px 1px 3px 1px rgba(0, 0, 0, 0.15);\n",
              "      filter: drop-shadow(0px 1px 2px rgba(0, 0, 0, 0.3));\n",
              "      fill: #FFFFFF;\n",
              "    }\n",
              "  </style>\n",
              "\n",
              "      <script>\n",
              "        const buttonEl =\n",
              "          document.querySelector('#df-85783fb4-83c9-42c2-8622-09a6dd5c5c87 button.colab-df-convert');\n",
              "        buttonEl.style.display =\n",
              "          google.colab.kernel.accessAllowed ? 'block' : 'none';\n",
              "\n",
              "        async function convertToInteractive(key) {\n",
              "          const element = document.querySelector('#df-85783fb4-83c9-42c2-8622-09a6dd5c5c87');\n",
              "          const dataTable =\n",
              "            await google.colab.kernel.invokeFunction('convertToInteractive',\n",
              "                                                     [key], {});\n",
              "          if (!dataTable) return;\n",
              "\n",
              "          const docLinkHtml = 'Like what you see? Visit the ' +\n",
              "            '<a target=\"_blank\" href=https://colab.research.google.com/notebooks/data_table.ipynb>data table notebook</a>'\n",
              "            + ' to learn more about interactive tables.';\n",
              "          element.innerHTML = '';\n",
              "          dataTable['output_type'] = 'display_data';\n",
              "          await google.colab.output.renderOutput(dataTable, element);\n",
              "          const docLink = document.createElement('div');\n",
              "          docLink.innerHTML = docLinkHtml;\n",
              "          element.appendChild(docLink);\n",
              "        }\n",
              "      </script>\n",
              "    </div>\n",
              "  </div>\n",
              "  "
            ],
            "text/plain": [
              "                    identity                                         image_path\n",
              "0      AFRICAN CROWNED CRANE  /content/Dataset/train/AFRICAN CROWNED CRANE/0...\n",
              "1      AFRICAN CROWNED CRANE  /content/Dataset/train/AFRICAN CROWNED CRANE/0...\n",
              "2      AFRICAN CROWNED CRANE  /content/Dataset/train/AFRICAN CROWNED CRANE/0...\n",
              "3      AFRICAN CROWNED CRANE  /content/Dataset/train/AFRICAN CROWNED CRANE/0...\n",
              "4      AFRICAN CROWNED CRANE  /content/Dataset/train/AFRICAN CROWNED CRANE/0...\n",
              "...                      ...                                                ...\n",
              "72327              mirflickr         /content/mirflickr25k/mirflickr/im9995.jpg\n",
              "72328              mirflickr         /content/mirflickr25k/mirflickr/im9996.jpg\n",
              "72329              mirflickr         /content/mirflickr25k/mirflickr/im9997.jpg\n",
              "72330              mirflickr         /content/mirflickr25k/mirflickr/im9998.jpg\n",
              "72331              mirflickr         /content/mirflickr25k/mirflickr/im9999.jpg\n",
              "\n",
              "[72332 rows x 2 columns]"
            ]
          },
          "metadata": {},
          "execution_count": 11
        }
      ],
      "source": [
        "annot = concatenate_annots(['/content/Dataset/train', '/content/mirflickr25k'])\n",
        "annot"
      ]
    },
    {
      "cell_type": "markdown",
      "metadata": {
        "id": "1M2c3nRw0_OE"
      },
      "source": [
        "## Load indexes"
      ]
    },
    {
      "cell_type": "code",
      "execution_count": null,
      "metadata": {
        "colab": {
          "base_uri": "https://localhost:8080/"
        },
        "id": "da0Jm02g6Ia4",
        "outputId": "3e696fdd-c785-41b5-ae9e-37eea78f44f3"
      },
      "outputs": [
        {
          "output_type": "stream",
          "name": "stdout",
          "text": [
            "/content/drive/.shortcut-targets-by-id/1rI5YNBuaSlCB__w522WEkHjw-nFuvIo0/CV_Birds/Notebooks/PP-Index\n"
          ]
        }
      ],
      "source": [
        "%cd \"/content/drive/MyDrive/CV_Birds/Notebooks/PP-Index\"\n",
        "%run PPIndex.ipynb"
      ]
    },
    {
      "cell_type": "code",
      "execution_count": null,
      "metadata": {
        "colab": {
          "base_uri": "https://localhost:8080/"
        },
        "id": "a4LrF3iizmgG",
        "outputId": "b895a1e7-4e3e-49d8-c54f-9ad9dbad1107"
      },
      "outputs": [
        {
          "output_type": "stream",
          "name": "stdout",
          "text": [
            "Tree retrieved from disk\n",
            "Tree retrieved from disk\n",
            "Forest retrieved from disk\n",
            "[WARNING]: Tree is still empty\n",
            "[WARNING]: Tree is still empty\n",
            "[WARNING]: Tree is still empty\n",
            "Forest retrieved from disk\n",
            "[WARNING]: Tree is still empty\n",
            "[WARNING]: Tree is still empty\n",
            "[WARNING]: Tree is still empty\n",
            "Tree retrieved from disk\n",
            "Tree retrieved from disk\n",
            "Forest retrieved from disk\n",
            "[WARNING]: Tree is still empty\n",
            "[WARNING]: Tree is still empty\n",
            "[WARNING]: Tree is still empty\n",
            "Forest retrieved from disk\n",
            "[WARNING]: Tree is still empty\n",
            "[WARNING]: Tree is still empty\n",
            "[WARNING]: Tree is still empty\n"
          ]
        }
      ],
      "source": [
        "fe_tree_cosine = PrefixTree(\"\", base_directory=\"/content/indexes/feature_extraction/tree/cosine\", tree_file=\"tree_structure\")\n",
        "fe_tree_euclidean = PrefixTree(\"\", base_directory=\"/content/indexes/feature_extraction/tree/euclidean\", tree_file=\"tree_structure\")\n",
        "fe_forest_cosine = PrefixForest(\"\", base_directory=\"/content/indexes/feature_extraction/forest/cosine\", forest_file=\"forest_structure\")\n",
        "fe_forest_euclidean = PrefixForest(\"\", base_directory=\"/content/indexes/feature_extraction/forest/euclidean\", forest_file=\"forest_structure\")\n",
        "\n",
        "ft_tree_cosine = PrefixTree(\"\", base_directory=\"/content/indexes/fine_tuning/tree/cosine\", tree_file=\"tree_structure\")\n",
        "ft_tree_euclidean = PrefixTree(\"\", base_directory=\"/content/indexes/fine_tuning/tree/euclidean\", tree_file=\"tree_structure\")\n",
        "ft_forest_cosine = PrefixForest(\"\", base_directory=\"/content/indexes/fine_tuning/forest/cosine\", forest_file=\"forest_structure\")\n",
        "ft_forest_euclidean = PrefixForest(\"\", base_directory=\"/content/indexes/fine_tuning/forest/euclidean\", forest_file=\"forest_structure\")"
      ]
    },
    {
      "cell_type": "markdown",
      "metadata": {
        "id": "s3oNyeT62Y9l"
      },
      "source": [
        "# Start server"
      ]
    },
    {
      "cell_type": "code",
      "execution_count": null,
      "metadata": {
        "id": "WTRVeG-y3cmf"
      },
      "outputs": [],
      "source": [
        "def choose_index(model, distance_measure, forest):\n",
        "  if model == \"Feature Extraction\":\n",
        "    if forest:\n",
        "      if distance_measure == 'Cosine Similarity':\n",
        "        return fe_forest_cosine\n",
        "      else:                             #fe, forest, euclidean\n",
        "        return fe_forest_euclidean\n",
        "    else:                               #fe, tree\n",
        "      if distance_measure == 'Cosine Similarity':\n",
        "        return fe_tree_cosine\n",
        "      else:                             #fe, tree, euclidean\n",
        "        return fe_tree_euclidean    \n",
        "  else:                                 #ft\n",
        "    if forest:\n",
        "      if distance_measure == 'Cosine Similarity':\n",
        "        return ft_forest_cosine\n",
        "      else:                             #ft, forest, euclidean\n",
        "        return ft_forest_euclidean\n",
        "    else:                               #ft, tree\n",
        "      if distance_measure == 'Cosine Similarity':\n",
        "        return ft_tree_cosine\n",
        "      else:                             #ft, tree, euclidean\n",
        "        return ft_tree_euclidean "
      ]
    },
    {
      "cell_type": "code",
      "execution_count": null,
      "metadata": {
        "id": "OLwV-0LC7FRi"
      },
      "outputs": [],
      "source": [
        "def search_knn(index, features, k, forest, query_pert):\n",
        "  if forest:\n",
        "    if query_pert:\n",
        "      return index.find_nearest_neighbors(features, k, perturbations=3)\n",
        "    else:                                                         #forest, no pert\n",
        "      return index.find_nearest_neighbors(features, k)\n",
        "  else:                                                           #tree\n",
        "    if query_pert:\n",
        "      return index.find_nearest_neighbors_with_query_perturbation(features, k)\n",
        "    else:                                                         #tree, no pert\n",
        "      return index.find_nearest_neighbors(features, k)       "
      ]
    },
    {
      "cell_type": "code",
      "execution_count": null,
      "metadata": {
        "colab": {
          "base_uri": "https://localhost:8080/"
        },
        "id": "eR5qChQO5q3M",
        "outputId": "af659acb-631c-4330-d422-10b91e391316"
      },
      "outputs": [
        {
          "output_type": "stream",
          "name": "stdout",
          "text": [
            "Connecting to wss://anvil.works/uplink\n",
            "Anvil websocket open\n",
            "Connected to \"Default environment\" as SERVER\n"
          ]
        }
      ],
      "source": [
        "# start server\n",
        "anvil.server.connect(\"LCKZI7Z7MMS2TA3T5Q3IFANX-YUJWRFYMLNZOAFDQ\")"
      ]
    },
    {
      "cell_type": "code",
      "execution_count": null,
      "metadata": {
        "id": "BCiD_vIAG6vl",
        "colab": {
          "base_uri": "https://localhost:8080/"
        },
        "outputId": "44b12245-f185-40e5-9e83-beeb6eb1d8c5"
      },
      "outputs": [
        {
          "output_type": "stream",
          "name": "stdout",
          "text": [
            "****************** New search request ******************\n",
            "* Model: Fine Tuning * Metric: Cosine Similarity * k: 10\n",
            "* Forest: True * Query Perturbation: True\n",
            "1) Extracted query features:  11.334 seconds\n",
            "2) k-nn completed:  0.424 seconds\n",
            "3) Images retrieved:  0.053 seconds\n",
            "--- Search request completed:  11.812 seconds ---\n",
            "\n",
            "****************** New search request ******************\n",
            "* Model: Fine Tuning * Metric: Cosine Similarity * k: 38\n",
            "* Forest: True * Query Perturbation: True\n",
            "1) Extracted query features:  0.153 seconds\n",
            "2) k-nn completed:  0.772 seconds\n",
            "3) Images retrieved:  0.045 seconds\n",
            "--- Search request completed:  0.971 seconds ---\n",
            "\n"
          ]
        }
      ],
      "source": [
        "@anvil.server.callable\n",
        "def search(query_image, model, k, distance_measure, forest, query_pert, show_distances = False):\n",
        "  start_time = time.time()\n",
        "  print(\"****************** New search request ******************\")\n",
        "  print(\"* Model:\", model, \"* Metric:\", distance_measure, \"* k:\", str(k))\n",
        "  print(\"* Forest:\", str(forest), \"* Query Perturbation:\", str(query_pert))\n",
        "  images = []\n",
        "  identities = []\n",
        "\n",
        "  # Extract features from the query image\n",
        "  extraction_time = time.time()\n",
        "  with anvil.media.TempFile(query_image) as f:\n",
        "    query_img = load_img(f, target_size=(IMAGE_HEIGHT, IMAGE_WIDTH)) # A PIL Image instance\n",
        "    image_array = tf.keras.preprocessing.image.img_to_array(query_img)\n",
        "    image_array = np.expand_dims(image_array, axis=0)  # add batch dimension\n",
        "    if model == \"Feature Extraction\":\n",
        "      features = feature_extraction_model.predict(image_array).squeeze()\n",
        "    else:\n",
        "      features = fine_tuning_model.predict(image_array).squeeze()\n",
        "  print(\"1) Extracted query features:  %.3f seconds\" % (time.time() - extraction_time))\n",
        "\n",
        "  # k-nearest-neighbors search\n",
        "  search_time = time.time()\n",
        "  current_index = choose_index(model, distance_measure, forest)\n",
        "  ids, distances = search_knn(current_index, features, k, forest, query_pert)\n",
        "  print(\"2) k-nn completed:  %.3f seconds\" % (time.time() - search_time))\n",
        "\n",
        "  # Retrieve images\n",
        "  retrieval_time = time.time()\n",
        "  for i in ids:\n",
        "    images.append(anvil.media.from_file(str(annot['image_path'][i]), \"image/jpeg\")) \n",
        "    identities.append(annot['identity'][i])       \n",
        "  print(\"3) Images retrieved:  %.3f seconds\" % (time.time() - retrieval_time))                         \n",
        "  \n",
        "  print(\"--- Search request completed:  %.3f seconds ---\\n\" % (time.time() - start_time))\n",
        "  if show_distances:\n",
        "    return weighted_KNN(identities,distances, distance_measure), images, identities, distances\n",
        "  else:\n",
        "    return weighted_KNN(identities,distances, distance_measure), images, identities\n",
        "\n",
        "anvil.server.wait_forever()"
      ]
    }
  ],
  "metadata": {
    "colab": {
      "collapsed_sections": [],
      "name": "web-server.ipynb",
      "provenance": []
    },
    "kernelspec": {
      "display_name": "Python 3",
      "name": "python3"
    },
    "language_info": {
      "name": "python"
    },
    "accelerator": "GPU"
  },
  "nbformat": 4,
  "nbformat_minor": 0
}